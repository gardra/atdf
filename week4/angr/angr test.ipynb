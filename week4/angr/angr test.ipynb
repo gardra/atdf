{
 "cells": [
  {
   "cell_type": "markdown",
   "metadata": {},
   "source": [
    "## angr 用法"
   ]
  },
  {
   "cell_type": "markdown",
   "metadata": {},
   "source": [
    "### 1. create project \n",
    "\n",
    "project = angr.Project(\"./xxxx\")\n",
    "\n",
    "### 2. create simulation_manager\n",
    "\n",
    "sm = project.factory.simulation_manager()\n",
    "\n",
    "\n",
    "### 3. explore\n",
    " sm.explore(find=0x4028E9, avoid=0x402941)"
   ]
  },
  {
   "cell_type": "markdown",
   "metadata": {},
   "source": [
    "# create input"
   ]
  },
  {
   "cell_type": "code",
   "execution_count": null,
   "metadata": {},
   "outputs": [],
   "source": [
    "## 參數有 name, size, min , max  \n",
    "claripy.BVS(\"name\",200)"
   ]
  },
  {
   "cell_type": "code",
   "execution_count": null,
   "metadata": {},
   "outputs": [],
   "source": []
  },
  {
   "cell_type": "code",
   "execution_count": null,
   "metadata": {},
   "outputs": [],
   "source": []
  },
  {
   "cell_type": "code",
   "execution_count": 2,
   "metadata": {},
   "outputs": [],
   "source": [
    "import angr\n",
    "import claripy"
   ]
  },
  {
   "cell_type": "code",
   "execution_count": 3,
   "metadata": {},
   "outputs": [],
   "source": [
    "project = angr.Project(\"./ais3_crackme\")"
   ]
  },
  {
   "cell_type": "code",
   "execution_count": 23,
   "metadata": {},
   "outputs": [],
   "source": [
    "argv1 = claripy.BVS(\"argv1\",200) #since we do not the length now, we just put 100 bytes\n",
    "initial_state = project.factory.entry_state(args=[\"./crackme1\",argv1])"
   ]
  },
  {
   "cell_type": "code",
   "execution_count": 27,
   "metadata": {},
   "outputs": [
    {
     "name": "stdout",
     "output_type": "stream",
     "text": [
      "[<SimState @ 0x400602>]\n",
      "b'ais3{I_tak3_g00d_n0t3s}\\x00\\x00'\n",
      "b'ais3{I_tak3_g00d_n0t3s}'\n"
     ]
    }
   ],
   "source": [
    "#create a path group using the created initial state \n",
    "sm = project.factory.simulation_manager(initial_state)\n",
    "\n",
    "#symbolically execute the program until we reach the wanted value of the instruction pointer\n",
    "sm.explore(find=0x400602) #at this instruction the binary will print(the \"correct\" message)\n",
    "print(sm.found)\n",
    "found = sm.found[0]\n",
    "#ask to the symbolic solver to get the value of argv1 in the reached state as a string\n",
    "solution = found.solver.eval(argv1, cast_to=bytes)\n",
    "\n",
    "print(repr(solution))\n",
    "solution = solution[:solution.find(b\"\\x00\")]\n",
    "print(solution)"
   ]
  },
  {
   "cell_type": "code",
   "execution_count": null,
   "metadata": {},
   "outputs": [],
   "source": []
  },
  {
   "cell_type": "code",
   "execution_count": null,
   "metadata": {},
   "outputs": [],
   "source": []
  }
 ],
 "metadata": {
  "kernelspec": {
   "display_name": "Python 3",
   "language": "python",
   "name": "python3"
  },
  "language_info": {
   "codemirror_mode": {
    "name": "ipython",
    "version": 3
   },
   "file_extension": ".py",
   "mimetype": "text/x-python",
   "name": "python",
   "nbconvert_exporter": "python",
   "pygments_lexer": "ipython3",
   "version": "3.9.2"
  }
 },
 "nbformat": 4,
 "nbformat_minor": 4
}
